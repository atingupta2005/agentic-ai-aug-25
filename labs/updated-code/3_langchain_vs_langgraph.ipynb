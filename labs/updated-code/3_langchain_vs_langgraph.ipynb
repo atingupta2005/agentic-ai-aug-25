{
  "cells": [
    {
      "cell_type": "markdown",
      "metadata": {
        "id": "y0CVJRbKYpDA"
      },
      "source": [
        "# Day 2: LangChain vs. LangGraph - The Self-Correcting AI Researcher\n",
        "\n",
        "**Objective:** To understand the practical differences between a standard `AgentExecutor` and `LangGraph` for building complex, stateful AI agents.\n",
        "\n",
        "In this notebook, we will attempt to build an agent with a crucial capability: **self-correction**. The agent's task is to research a topic, but with a twist. It must:\n",
        "1. Perform an initial web search.\n",
        "2. **Analyze** its own search results to see if they are good enough.\n",
        "3. If the results are poor, it must **rewrite** its search query and try again.\n",
        "4. Only when it has sufficient information should it provide a final answer.\n",
        "\n",
        "This cyclical, self-evaluating behavior is a hallmark of more advanced, reliable agents. We will see how a standard agent struggles with this task and how LangGraph is explicitly designed to solve it."
      ]
    },
    {
      "cell_type": "markdown",
      "metadata": {
        "id": "Lgao8xWAYpDL"
      },
      "source": [
        "## 1. Setup and Dependencies\n",
        "\n",
        "First, let's install the necessary libraries. We will use `ddgs` for DuckDuckGo search as the older package is deprecated. Then we'll import our modules and set up the environment. Make sure you have a `.env` file in the same directory with your `OPENAI_API_KEY`, or set it up as a secret in your Colab environment."
      ]
    },
    {
      "cell_type": "code",
      "source": [
        "import warnings\n",
        "warnings.filterwarnings('ignore')"
      ],
      "metadata": {
        "id": "lXtc16qEZ5b9"
      },
      "execution_count": null,
      "outputs": []
    },
    {
      "cell_type": "code",
      "execution_count": null,
      "metadata": {
        "id": "e4wPUT8IYpDQ"
      },
      "outputs": [],
      "source": [
        "!pip install -qU langchain langchain-openai langgraph langchain_community ddgs python-dotenv"
      ]
    },
    {
      "cell_type": "code",
      "source": [
        "!pip install -U duckduckgo-search"
      ],
      "metadata": {
        "colab": {
          "base_uri": "https://localhost:8080/"
        },
        "id": "-kp6dSuXZNZ-",
        "outputId": "cb80afb5-8cdf-4a60-d671-b84d5368e21f"
      },
      "execution_count": null,
      "outputs": [
        {
          "output_type": "stream",
          "name": "stdout",
          "text": [
            "Requirement already satisfied: duckduckgo-search in /usr/local/lib/python3.11/dist-packages (8.1.1)\n",
            "Requirement already satisfied: click>=8.1.8 in /usr/local/lib/python3.11/dist-packages (from duckduckgo-search) (8.2.1)\n",
            "Requirement already satisfied: primp>=0.15.0 in /usr/local/lib/python3.11/dist-packages (from duckduckgo-search) (0.15.0)\n",
            "Requirement already satisfied: lxml>=5.3.0 in /usr/local/lib/python3.11/dist-packages (from duckduckgo-search) (5.4.0)\n"
          ]
        }
      ]
    },
    {
      "cell_type": "code",
      "execution_count": null,
      "metadata": {
        "colab": {
          "base_uri": "https://localhost:8080/"
        },
        "id": "IH1XSWKPYpDS",
        "outputId": "0612f8fe-c80f-461b-ed68-3f022e38cf6e"
      },
      "outputs": [
        {
          "output_type": "stream",
          "name": "stdout",
          "text": [
            "Dependencies installed and environment loaded.\n"
          ]
        }
      ],
      "source": [
        "import os\n",
        "from dotenv import load_dotenv\n",
        "\n",
        "# Load the API key from the .env file\n",
        "load_dotenv(\"dev.env\")\n",
        "\n",
        "print(\"Dependencies installed and environment loaded.\")"
      ]
    },
    {
      "cell_type": "markdown",
      "metadata": {
        "id": "PLMGcSGAYpDT"
      },
      "source": [
        "---"
      ]
    },
    {
      "cell_type": "markdown",
      "metadata": {
        "id": "ixRWeWfkYpDU"
      },
      "source": [
        "## Part 1: The LangChain Agent Attempt (The Brittle Approach)\n",
        "\n",
        "Here, we'll try to force a standard `AgentExecutor` to perform the self-correction loop by cramming all the logic into a complex prompt. We are essentially *telling* the agent to follow our steps, but we cannot *enforce* it.\n",
        "\n",
        "**Hypothesis:** The agent will likely struggle to follow the cyclical instructions. It is heavily biased towards moving forward to a `Final Answer` and may ignore the command to loop back, especially if the initial results are weak."
      ]
    },
    {
      "cell_type": "markdown",
      "metadata": {
        "id": "AdzXeQHvYpDU"
      },
      "source": [
        "### 1.1: Define Tools and LLM"
      ]
    },
    {
      "cell_type": "code",
      "execution_count": null,
      "metadata": {
        "id": "_8yXZVdXYpDc"
      },
      "outputs": [],
      "source": [
        "from langchain_openai import ChatOpenAI\n",
        "from langchain_community.tools import DuckDuckGoSearchRun\n",
        "\n",
        "# Tool: The agent only has one tool, a web search.\n",
        "search_tool = DuckDuckGoSearchRun()\n",
        "tools = [search_tool]\n",
        "\n",
        "# LLM: Using a powerful model to give it the best chance.\n",
        "llm = ChatOpenAI(model=\"gpt-4o\", temperature=0)"
      ]
    },
    {
      "cell_type": "markdown",
      "metadata": {
        "id": "knwfC8YVYpDd"
      },
      "source": [
        "### 1.2: The Complex Prompt\n",
        "\n",
        "This is the core of the attempt. We modify a standard ReAct prompt to include a detailed, multi-step procedure. The agent's ability to follow these instructions is entirely dependent on the LLM's interpretation, making it unreliable."
      ]
    },
    {
      "cell_type": "code",
      "execution_count": null,
      "metadata": {
        "id": "3hEWJX2sYpDj"
      },
      "outputs": [],
      "source": [
        "from langchain import hub\n",
        "\n",
        "# Pull a base ReAct prompt\n",
        "prompt_template = hub.pull(\"hwchase17/react\").copy()\n",
        "\n",
        "# Manually inject our complex, cyclical instructions\n",
        "prompt_template.template = \"\"\"\n",
        "You are an expert web researcher. Your goal is to provide a comprehensive answer. You MUST follow these steps precisely:\n",
        "\n",
        "Step 1: Initial Search. Use the search tool with a query based on the user's topic.\n",
        "Step 2: Critical Analysis. After getting the search results, you MUST pause and analyze them. Ask yourself: 'Are these results detailed enough to write a good answer?'\n",
        "Step 3: Decision and Self-Correction.\n",
        "- If the results ARE sufficient, proceed to Step 4.\n",
        "- If the results ARE NOT sufficient, you MUST formulate a new, more specific search query and go back to Step 1. This is a critical self-correction step.\n",
        "\n",
        "Step 4: Final Answer. Once you have sufficient information, synthesize it into a final, detailed answer.\n",
        "\n",
        "You have access to the following tools:\n",
        "{tools}\n",
        "\n",
        "Use the following format:\n",
        "Question: the input question you must answer\n",
        "Thought: your reasoning and plan for the next action (following the steps above)\n",
        "Action: the action to take, should be one of [{tool_names}]\n",
        "Action Input: the input to the action\n",
        "Observation: the result of the action\n",
        "... (this Thought/Action/Action Input/Observation can repeat multiple times)\n",
        "Thought: I now have enough information to answer the user's question.\n",
        "Final Answer: the final answer to the original input question\n",
        "\n",
        "Begin!\n",
        "\n",
        "Question: {input}\n",
        "Thought:{agent_scratchpad}\n",
        "\"\"\"\n"
      ]
    },
    {
      "cell_type": "markdown",
      "metadata": {
        "id": "Zo-7y734YpDn"
      },
      "source": [
        "### 1.3: Create and Run the Agent\n",
        "\n",
        "Now we assemble the agent and run it. Observe the `verbose` output carefully to see if it follows our instructions. The final output will be rendered as Markdown."
      ]
    },
    {
      "cell_type": "code",
      "execution_count": null,
      "metadata": {
        "colab": {
          "base_uri": "https://localhost:8080/",
          "height": 414
        },
        "id": "KtJK-xoxYpDo",
        "outputId": "a0101264-5157-411e-a0e7-281d0fc92a92"
      },
      "outputs": [
        {
          "output_type": "stream",
          "name": "stdout",
          "text": [
            "\n",
            "\n",
            "\u001b[1m> Entering new AgentExecutor chain...\u001b[0m\n",
            "\u001b[32;1m\u001b[1;3mTo provide a comprehensive answer about \"LangGraph,\" I will start by conducting an initial search to gather information on this topic.\n",
            "\n",
            "Action: duckduckgo_search\n",
            "Action Input: \"LangGraph\"\n",
            "\u001b[0m"
          ]
        },
        {
          "output_type": "stream",
          "name": "stderr",
          "text": [
            "/usr/local/lib/python3.11/dist-packages/langchain_community/utilities/duckduckgo_search.py:63: RuntimeWarning: This package (`duckduckgo_search`) has been renamed to `ddgs`! Use `pip install ddgs` instead.\n",
            "  with DDGS() as ddgs:\n"
          ]
        },
        {
          "output_type": "stream",
          "name": "stdout",
          "text": [
            "\u001b[36;1m\u001b[1;3mJun 17, 2025 · Explore how LangGraph, the graph-based agent framework from LangChain, empowers developers and organizations to orchestrate complex AI workflows, integrate with any … 6 days ago · This document covers LangGraph's collection of practical examples, tutorials, and templates that demonstrate how to build stateful, multi-actor applications using the framework. … Jul 17, 2025 · LangGraph is a stateful orchestration framework built on top of LangChain. It lets your AI: Why use graphs instead of chains? Graphs mimic real thinking — branching, re-routing, and … Build controllable agents with LangGraph, our low-level agent orchestration framework. Deploy and scale with LangGraph Platform, with APIs for state management, a visual studio for debugging, … LangGraph, created by LangChain, is an open source AI agent framework designed to build, deploy and manage complex generative AI agent workflows. It provides a set of tools and libraries that …\u001b[0m\u001b[32;1m\u001b[1;3mThe search results provide a good amount of information about LangGraph, including its purpose, features, and how it is used. I now have enough information to answer the user's question.\n",
            "\n",
            "Final Answer: LangGraph is a stateful orchestration framework developed by LangChain. It is designed to build, deploy, and manage complex generative AI agent workflows. LangGraph is built on top of LangChain and offers a graph-based approach to AI workflow orchestration, which mimics real thinking by allowing for branching and re-routing. This framework is particularly useful for creating stateful, multi-actor applications and provides tools and libraries to facilitate the development of these applications. LangGraph also includes features for state management, a visual studio for debugging, and APIs to help developers and organizations integrate and scale their AI solutions effectively.\u001b[0m\n",
            "\n",
            "\u001b[1m> Finished chain.\u001b[0m\n",
            "\n",
            "--- Agent's Final Answer (Formatted as Markdown) ---\n"
          ]
        },
        {
          "output_type": "display_data",
          "data": {
            "text/plain": [
              "<IPython.core.display.Markdown object>"
            ],
            "text/markdown": "LangGraph is a stateful orchestration framework developed by LangChain. It is designed to build, deploy, and manage complex generative AI agent workflows. LangGraph is built on top of LangChain and offers a graph-based approach to AI workflow orchestration, which mimics real thinking by allowing for branching and re-routing. This framework is particularly useful for creating stateful, multi-actor applications and provides tools and libraries to facilitate the development of these applications. LangGraph also includes features for state management, a visual studio for debugging, and APIs to help developers and organizations integrate and scale their AI solutions effectively."
          },
          "metadata": {}
        }
      ],
      "source": [
        "from langchain.agents import AgentExecutor, create_react_agent\n",
        "from IPython.display import display, Markdown\n",
        "\n",
        "# Create the Agent\n",
        "agent_v1 = create_react_agent(llm, tools, prompt_template)\n",
        "agent_executor_v1 = AgentExecutor(agent=agent_v1, tools=tools, verbose=True, handle_parsing_errors=True)\n",
        "\n",
        "# Let's run it with a niche topic that likely requires re-searching\n",
        "topic = \"The impact of LangGraph on multi-agent system reliability compared to traditional agent loops\"\n",
        "topic = \"What is LangGraph\"\n",
        "response_v1 = agent_executor_v1.invoke({\"input\": topic})\n",
        "\n",
        "# Render the final output as Markdown\n",
        "print(\"\\n--- Agent's Final Answer (Formatted as Markdown) ---\")\n",
        "display(Markdown(response_v1['output']))"
      ]
    },
    {
      "cell_type": "markdown",
      "metadata": {
        "id": "TGcFeFJhYpDp"
      },
      "source": [
        "### 1.4: Analysis of the LangChain Agent's Performance\n",
        "\n",
        "You will likely observe that the agent performs one search and then immediately proceeds to a `Final Answer`, even if the results are clearly insufficient. It fails to follow the instruction to loop back.\n",
        "\n",
        "**The core problem is the lack of control.** We are *suggesting* a workflow in the prompt, but the `AgentExecutor`'s fundamental design doesn't support enforcing this kind of cycle. This is a classic example of a workflow that is **not feasible** to implement reliably with this architecture."
      ]
    },
    {
      "cell_type": "markdown",
      "metadata": {
        "id": "YzaSRqBOYpDs"
      },
      "source": [
        "---"
      ]
    },
    {
      "cell_type": "markdown",
      "metadata": {
        "id": "cCUL_N16YpDs"
      },
      "source": [
        "## Part 2: The LangGraph Solution (The Robust Approach)\n",
        "\n",
        "Now, let's build the same agent using LangGraph. Instead of a complex prompt, we will define our workflow as an explicit graph of nodes and edges.\n",
        "\n",
        "**Hypothesis:** The LangGraph implementation will reliably execute the self-correction loop every time it's needed, because the flow is enforced by code, not suggested by a prompt."
      ]
    },
    {
      "cell_type": "markdown",
      "metadata": {
        "id": "T0CpcGzQYpDs"
      },
      "source": [
        "### 2.1: Define the State\n",
        "\n",
        "The `State` is a central concept in LangGraph. It's a single object (in this case, a dictionary) that gets passed between all the nodes in our graph. Each node can read from it and write to it, allowing us to track our progress through the workflow."
      ]
    },
    {
      "cell_type": "code",
      "execution_count": null,
      "metadata": {
        "id": "hVeU0Uo8YpDx"
      },
      "outputs": [],
      "source": [
        "from typing import TypedDict, Annotated, List\n",
        "from langchain_core.messages import BaseMessage\n",
        "\n",
        "class AgentState(TypedDict):\n",
        "    \"\"\"Represents the state of our research agent.\"\"\"\n",
        "    topic: str\n",
        "    messages: Annotated[List[BaseMessage], lambda x, y: x + y]\n",
        "    search_results: str | None\n",
        "    retries: int"
      ]
    },
    {
      "cell_type": "markdown",
      "metadata": {
        "id": "hQwCnSJ9YpDz"
      },
      "source": [
        "### 2.2: Define the Graph Nodes\n",
        "\n",
        "Nodes are the fundamental building blocks of a LangGraph workflow. Each node is a simple Python function that receives the current `state` and returns a dictionary containing the values to update in the state."
      ]
    },
    {
      "cell_type": "markdown",
      "metadata": {
        "id": "kenq-qNYYpD0"
      },
      "source": [
        "#### Node 1: `initial_search_node`\n",
        "This node performs the first web search based on the initial topic and initializes our retry counter."
      ]
    },
    {
      "cell_type": "code",
      "execution_count": null,
      "metadata": {
        "id": "oKnUXiw_YpD1"
      },
      "outputs": [],
      "source": [
        "def initial_search_node(state: AgentState):\n",
        "    print(\"---NODE: Initial Search---\")\n",
        "    search_results = search_tool.run(state['topic'])\n",
        "    return {\"search_results\": search_results, \"retries\": 0}"
      ]
    },
    {
      "cell_type": "markdown",
      "metadata": {
        "id": "D_ShmZABYpD3"
      },
      "source": [
        "#### Node 2: `analyze_results_node` (Improved Logic)\n",
        "\n",
        "This node uses the LLM to act as a judge. **This is the improved version.** It now explicitly checks if the search tool failed. If so, it immediately decides the results are `insufficient`, making the agent more robust."
      ]
    },
    {
      "cell_type": "code",
      "execution_count": null,
      "metadata": {
        "id": "4oVdQqAIYpD4"
      },
      "outputs": [],
      "source": [
        "from langchain_core.messages import SystemMessage\n",
        "\n",
        "def analyze_results_node(state: AgentState):\n",
        "    print(\"---NODE: Analyze Results---\")\n",
        "    search_results = state['search_results']\n",
        "\n",
        "    # Check for a failed search result explicitly.\n",
        "    if not search_results or \"No good DuckDuckGo Search Result was found\" in search_results:\n",
        "        print(\"Analysis Decision: Search failed, results are insufficient.\")\n",
        "        return {\"messages\": [SystemMessage(content=\"Analysis: insufficient\")]}\n",
        "\n",
        "    analysis_prompt = f\"\"\"You are an expert researcher. Analyze these search results for the topic '{state['topic']}' and determine if they are sufficient to write a comprehensive answer. Respond with only 'sufficient' or 'insufficient'.\\n\\nResults:\\n{state['search_results']}\"\"\"\n",
        "    response = llm.invoke(analysis_prompt)\n",
        "    decision = response.content.strip().lower()\n",
        "    print(f\"Analysis Decision: {decision}\")\n",
        "    return {\"messages\": [SystemMessage(content=f\"Analysis: {decision}\")]}"
      ]
    },
    {
      "cell_type": "markdown",
      "metadata": {
        "id": "WvNL4mkUYpD5"
      },
      "source": [
        "#### Node 3: `rewrite_query_node`\n",
        "\n",
        "This node is only called if the analysis fails. It uses the LLM to generate a *better* search query and then executes the search again, updating the state with the new results."
      ]
    },
    {
      "cell_type": "code",
      "execution_count": null,
      "metadata": {
        "id": "hzFKtC7kYpD6"
      },
      "outputs": [],
      "source": [
        "def rewrite_query_node(state: AgentState):\n",
        "    print(\"---NODE: Rewrite Query---\")\n",
        "    retries = state['retries']\n",
        "    rewrite_prompt = f\"\"\"You are a search expert. Your search for '{state['topic']}' was insufficient. Rewrite it into a better, more specific search query.\"\"\"\n",
        "    new_query = llm.invoke(rewrite_prompt).content.strip()\n",
        "    print(f\"New Query: {new_query}\")\n",
        "    search_results = search_tool.run(new_query)\n",
        "    return {\"search_results\": search_results, \"retries\": retries + 1}"
      ]
    },
    {
      "cell_type": "markdown",
      "metadata": {
        "id": "6ouxnIMjYpD7"
      },
      "source": [
        "#### Node 4: `final_response_node`\n",
        "\n",
        "This is the final step, only reached when the results are deemed sufficient. It synthesizes all the gathered information into a comprehensive answer."
      ]
    },
    {
      "cell_type": "code",
      "execution_count": null,
      "metadata": {
        "id": "Jmx2fnUVYpD8"
      },
      "outputs": [],
      "source": [
        "def final_response_node(state: AgentState):\n",
        "    print(\"---NODE: Final Response---\")\n",
        "    response_prompt = f\"\"\"Based on the following search results, provide a detailed answer to the topic: '{state['topic']}'.\\n\\nResults:\\n{state['search_results']}\"\"\"\n",
        "    final_response = llm.invoke(response_prompt).content\n",
        "    return {\"messages\": [SystemMessage(content=final_response)]}"
      ]
    },
    {
      "cell_type": "markdown",
      "metadata": {
        "id": "PYVkklG9YpD8"
      },
      "source": [
        "### 2.3: Define the Edges and Assemble the Graph\n",
        "\n",
        "Edges connect our nodes. A **conditional edge** is a special type of edge that uses a function to decide which node to go to next based on the current state. This is how we create our self-correction loop."
      ]
    },
    {
      "cell_type": "code",
      "execution_count": null,
      "metadata": {
        "colab": {
          "base_uri": "https://localhost:8080/"
        },
        "id": "rRliYF0nYpD9",
        "outputId": "0718198d-782b-481a-b098-bac7b4232032"
      },
      "outputs": [
        {
          "output_type": "stream",
          "name": "stdout",
          "text": [
            "Graph compiled successfully!\n"
          ]
        }
      ],
      "source": [
        "from langgraph.graph import StateGraph, END\n",
        "\n",
        "# This function is our conditional edge.\n",
        "def should_continue_edge(state: AgentState):\n",
        "    # First, check for the max retries condition to prevent infinite loops\n",
        "    if state['retries'] > 2:\n",
        "        print(\"---DECISION: Max retries reached, ending.---\")\n",
        "        return \"end\"\n",
        "\n",
        "    # Check the analysis message in the state\n",
        "    last_message = state['messages'][-1].content\n",
        "    if \"insufficient\" in last_message:\n",
        "        print(\"---DECISION: Results are insufficient, rewriting query.---\")\n",
        "        return \"rewrite\"\n",
        "    else:\n",
        "        print(\"---DECISION: Results are sufficient, generating final response.---\")\n",
        "        return \"end\"\n",
        "\n",
        "# Assemble the graph\n",
        "workflow = StateGraph(AgentState)\n",
        "workflow.add_node(\"initial_search\", initial_search_node)\n",
        "workflow.add_node(\"analyze_results\", analyze_results_node)\n",
        "workflow.add_node(\"rewrite_query\", rewrite_query_node)\n",
        "workflow.add_node(\"final_response\", final_response_node)\n",
        "\n",
        "workflow.set_entry_point(\"initial_search\")\n",
        "workflow.add_edge(\"initial_search\", \"analyze_results\")\n",
        "workflow.add_edge(\"rewrite_query\", \"analyze_results\") # The crucial loop!\n",
        "workflow.add_conditional_edges(\n",
        "    \"analyze_results\",\n",
        "    should_continue_edge,\n",
        "    {\"rewrite\": \"rewrite_query\", \"end\": \"final_response\"} # This dictionary maps the edge function's return value to a node name\n",
        ")\n",
        "workflow.add_edge(\"final_response\", END)\n",
        "\n",
        "app = workflow.compile()\n",
        "print(\"Graph compiled successfully!\")"
      ]
    },
    {
      "cell_type": "markdown",
      "metadata": {
        "id": "QvuLu1PaYpD_"
      },
      "source": [
        "### 2.4: Visualize the Graph\n",
        "\n",
        "One of the best features of LangGraph is the ability to visualize your agent's structure. This makes it incredibly easy to understand and debug the flow.\n",
        "\n",
        "**Note:** This requires `graphviz` and its development libraries to be installed. The command below handles this for Debian-based systems like Google Colab."
      ]
    },
    {
      "cell_type": "code",
      "execution_count": null,
      "metadata": {
        "colab": {
          "base_uri": "https://localhost:8080/",
          "height": 473
        },
        "id": "GirG9j2XYpD_",
        "outputId": "79163620-bf4a-486e-e622-7aeccc283a9d"
      },
      "outputs": [
        {
          "output_type": "display_data",
          "data": {
            "image/png": "[encoded data removed]",
            "text/plain": [
              "<IPython.core.display.Image object>"
            ]
          },
          "metadata": {}
        }
      ],
      "source": [
        "# Install system dependencies for visualization\n",
        "!sudo apt-get -qq install -y graphviz libgraphviz-dev\n",
        "!pip install -q pygraphviz\n",
        "\n",
        "from IPython.display import Image, display\n",
        "\n",
        "try:\n",
        "    # Generate the visualization\n",
        "    graph_image = app.get_graph().draw_mermaid_png()\n",
        "    display(Image(graph_image))\n",
        "except Exception as e:\n",
        "    print(f\"Error generating visualization: {e}\")\n",
        "    print(\"Please ensure graphviz and its development libraries are installed correctly.\")"
      ]
    },
    {
      "cell_type": "markdown",
      "metadata": {
        "id": "3GWbCgBkYpEB"
      },
      "source": [
        "### 2.5: Run the Graph and Observe the State\n",
        "\n",
        "Now we run our compiled graph. We will `stream` the events to inspect the **interim state** after each node runs. We also pass a `config` dictionary to set a higher recursion limit, preventing the `GraphRecursionError`."
      ]
    },
    {
      "cell_type": "code",
      "execution_count": null,
      "metadata": {
        "colab": {
          "base_uri": "https://localhost:8080/"
        },
        "id": "ImItrmsfYpEC",
        "outputId": "4dfd2d94-fab8-42bb-bda1-6ae89f9c5b46"
      },
      "outputs": [
        {
          "output_type": "stream",
          "name": "stdout",
          "text": [
            "--- Running LangGraph App ---\n",
            "---NODE: Initial Search---\n"
          ]
        },
        {
          "output_type": "stream",
          "name": "stderr",
          "text": [
            "/usr/local/lib/python3.11/dist-packages/langchain_community/utilities/duckduckgo_search.py:63: RuntimeWarning: This package (`duckduckgo_search`) has been renamed to `ddgs`! Use `pip install ddgs` instead.\n",
            "  with DDGS() as ddgs:\n"
          ]
        },
        {
          "output_type": "stream",
          "name": "stdout",
          "text": [
            "\n",
            "--- STEP 1: Executed Node 'initial_search' ---\n",
            "Output of this node:\n",
            "{'search_results': 'Nov 25, 2024 · If you’re curious about creating a powerful chatbot using LangGraph, this guide walks you through everything step by step. Whether you’re a developer looking to enhance your … Feb 16, 2025 · LangGraph is a framework that brings state machines to Large Language Model (LLM) applications. Learn the basics, real examples, and deployment of LangGraph for building … Jun 17, 2025 · LangGraph turns the idea of an AI agent into a scalable system — letting developers coordinate multiple agents or tool calls within a governed workflow. At its core, LangGraph lets … May 20, 2025 · LangGraph is a powerful library, which is a part of LangChain tools. It helps streamline the integration of LLMs, ensuring they work together seamlessly to understand and … Jun 3, 2025 · LangGraph is an open-source framework built on top of LangChain, designed specifically for constructing stateful, multi-agent, and graph-based AI applications.It brings a …', 'retries': 0}\n",
            "------------------------------------------------------------\n",
            "---NODE: Analyze Results---\n",
            "Analysis Decision: sufficient\n",
            "---DECISION: Results are sufficient, generating final response.---\n",
            "\n",
            "--- STEP 2: Executed Node 'analyze_results' ---\n",
            "Output of this node:\n",
            "{'messages': [SystemMessage(content='Analysis: sufficient', additional_kwargs={}, response_metadata={})]}\n",
            "------------------------------------------------------------\n",
            "---NODE: Final Response---\n",
            "\n",
            "--- STEP 3: Executed Node 'final_response' ---\n",
            "Output of this node:\n",
            "{'messages': [SystemMessage(content='LangGraph is an open-source framework designed to enhance the development and deployment of applications that utilize Large Language Models (LLMs). It is built on top of LangChain, a suite of tools aimed at facilitating the integration and management of LLMs. LangGraph specifically focuses on creating stateful, multi-agent, and graph-based AI applications, providing a structured approach to managing complex workflows involving multiple AI agents.\\n\\n### Key Features of LangGraph:\\n\\n1. **State Machines for LLM Applications**: LangGraph introduces the concept of state machines to LLM applications. This allows developers to define and manage the states and transitions of AI agents, ensuring that the application behaves predictably and can handle complex interactions.\\n\\n2. **Scalable System for AI Agents**: By turning the idea of an AI agent into a scalable system, LangGraph enables developers to coordinate multiple agents or tool calls within a governed workflow. This is particularly useful for applications that require the orchestration of several AI components to achieve a common goal.\\n\\n3. **Integration with LangChain**: As part of the LangChain ecosystem, LangGraph benefits from seamless integration with other LangChain tools. This integration helps streamline the process of incorporating LLMs into applications, ensuring that they work together effectively to understand and process information.\\n\\n4. **Graph-Based AI Applications**: LangGraph is designed to support the construction of graph-based AI applications. This approach allows for the representation of complex relationships and interactions between different components of the application, facilitating more sophisticated and dynamic AI solutions.\\n\\n5. **Open-Source and Community-Driven**: Being open-source, LangGraph encourages collaboration and contributions from the developer community. This openness helps in the continuous improvement and evolution of the framework, ensuring it remains relevant and effective for a wide range of applications.\\n\\n### Use Cases:\\n\\n- **Chatbot Development**: LangGraph can be used to create powerful chatbots that require the coordination of multiple AI agents to provide comprehensive and context-aware responses.\\n- **Complex Workflow Management**: Applications that involve intricate workflows with multiple decision points can benefit from the state machine capabilities of LangGraph.\\n- **Multi-Agent Systems**: For systems that require the interaction of several AI agents, LangGraph provides the necessary tools to manage these interactions efficiently.\\n\\nIn summary, LangGraph is a robust framework that extends the capabilities of LangChain by introducing state machines and graph-based structures to LLM applications. It is particularly suited for developers looking to build sophisticated, multi-agent AI systems with complex workflows.', additional_kwargs={}, response_metadata={})]}\n",
            "------------------------------------------------------------\n",
            "---NODE: Initial Search---\n",
            "---NODE: Analyze Results---\n"
          ]
        },
        {
          "output_type": "stream",
          "name": "stderr",
          "text": [
            "/usr/local/lib/python3.11/dist-packages/langchain_community/utilities/duckduckgo_search.py:63: RuntimeWarning: This package (`duckduckgo_search`) has been renamed to `ddgs`! Use `pip install ddgs` instead.\n",
            "  with DDGS() as ddgs:\n"
          ]
        },
        {
          "output_type": "stream",
          "name": "stdout",
          "text": [
            "Analysis Decision: sufficient\n",
            "---DECISION: Results are sufficient, generating final response.---\n",
            "---NODE: Final Response---\n",
            "\n",
            "==================================================\n",
            "          LANGGRAPH FINAL ANSWER\n",
            "==================================================\n"
          ]
        },
        {
          "output_type": "display_data",
          "data": {
            "text/plain": [
              "<IPython.core.display.Markdown object>"
            ],
            "text/markdown": "LangGraph is an open-source AI agent framework developed by LangChain, designed to facilitate the building, deployment, and management of AI applications such as chatbots and other AI agents. It is a Python library that provides a robust framework for creating stateful, multi-actor applications, particularly those that leverage large language models.\n\nKey features of LangGraph include:\n\n1. **Stateful Orchestration**: LangGraph is particularly noted for its ability to manage stateful workflows. This means it can maintain the state of an application across different interactions, which is crucial for applications that require context retention over multiple exchanges, such as conversational agents.\n\n2. **Multi-Actor Support**: The framework is designed to handle applications involving multiple actors or components. This is beneficial for complex systems where different parts of the application need to interact with each other in a coordinated manner.\n\n3. **Integration with LangChain Ecosystem**: As part of the LangChain ecosystem, LangGraph is designed to work seamlessly with other tools and libraries within this ecosystem. This integration allows developers to leverage a wide range of functionalities and resources when building their applications.\n\n4. **Control and Flexibility**: LangGraph provides developers with added control over agent workflows, allowing for more precise management of how different components of an application interact and operate. This flexibility is essential for tailoring applications to specific needs and ensuring they function as intended.\n\nOverall, LangGraph is a powerful tool for developers looking to create sophisticated AI applications that require advanced orchestration and state management capabilities. Its integration within the LangChain ecosystem further enhances its utility by providing access to a broader set of tools and resources."
          },
          "metadata": {}
        }
      ],
      "source": [
        "initial_input = {\"topic\": topic, \"messages\": []}\n",
        "config = {\"recursion_limit\": 50} # Set a higher limit for safety\n",
        "\n",
        "print(\"--- Running LangGraph App ---\")\n",
        "for i, step in enumerate(app.stream(initial_input, config=config)):\n",
        "    # The 'step' object contains the output of the node that just ran\n",
        "    node_name = list(step.keys())[0]\n",
        "    node_output = step[node_name]\n",
        "\n",
        "    print(f\"\\n--- STEP {i+1}: Executed Node '{node_name}' ---\")\n",
        "    print(\"Output of this node:\")\n",
        "    print(node_output)\n",
        "    print(\"-\" * 60)\n",
        "\n",
        "# Get the final state to print the answer\n",
        "final_state = app.invoke(initial_input, config=config)\n",
        "\n",
        "print(\"\\n\" + \"=\"*50)\n",
        "print(\"          LANGGRAPH FINAL ANSWER\")\n",
        "print(\"=\"*50)\n",
        "display(Markdown(final_state['messages'][-1].content))"
      ]
    },
    {
      "cell_type": "markdown",
      "metadata": {
        "id": "UqrGyzH8YpED"
      },
      "source": [
        "### 2.6: Analysis of the LangGraph Performance\n",
        "\n",
        "As you can see from the output, the flow is explicit and reliable. The graph moves from node to node, the conditional edge correctly routes the flow back for a retry, and the state is updated predictably at each step. This is the power of defining your agent's logic as code rather than as a prompt.\n"
      ]
    },
    {
      "cell_type": "markdown",
      "metadata": {
        "id": "tMMmadSpYpEP"
      },
      "source": [
        "## Conclusion: The Right Tool for the Job\n",
        "\n",
        "- **LangChain `AgentExecutor`:** An excellent tool for rapid prototyping and building agents where the workflow is relatively linear (Tool A -> Tool B -> Answer). It's the \"automatic transmission\" for getting started quickly.\n",
        "\n",
        "- **LangGraph:** The essential tool for building production-grade, reliable agents that require complex, stateful logic. It provides the \"manual transmission\" needed for fine-grained control over cycles, retries, and branching, which is impossible to achieve reliably with a standard agent."
      ]
    },
    {
      "cell_type": "code",
      "source": [],
      "metadata": {
        "id": "We-X8hlCasMr"
      },
      "execution_count": null,
      "outputs": []
    }
  ],
  "metadata": {
    "kernelspec": {
      "display_name": "Python 3",
      "language": "python",
      "name": "python3"
    },
    "language_info": {
      "codemirror_mode": {
        "name": "ipython",
        "version": 3
      },
      "file_extension": ".py",
      "mimetype": "text/x-python",
      "name": "python",
      "nbconvert_exporter": "python",
      "pygments_lexer": "ipython3",
      "version": "3.10.0"
    },
    "colab": {
      "provenance": []
    }
  },
  "nbformat": 4,
  "nbformat_minor": 0
}