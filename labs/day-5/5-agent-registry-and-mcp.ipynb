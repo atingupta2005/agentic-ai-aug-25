{
 "cells": [
  {
   "cell_type": "markdown",
   "metadata": {},
   "source": [
    "# 📓 Real-World Agentic AI: The Customer Support Bot\n",
    "\n",
    "Welcome! In this demonstration, we'll build a simple but realistic AI system. Our goal is to create a **Customer Support Bot** that can check a user's order status.\n",
    "\n",
    "We'll move beyond simple dictionaries and functions to show how these systems are structured in the real world.\n",
    "\n",
    "**Our Plan:**\n",
    "1.  **The Agent Registry**: We'll use a `JSON` file, which is how configurations are often stored.\n",
    "2.  **The Tool (Order API)**: A class that represents an external company database.\n",
    "3.  **The MCP Simulation**: The agent and tool will communicate using `JSON text strings`, mimicking how real web APIs talk to each other.\n",
    "\n"
   ]
  },
  {
   "cell_type": "markdown",
   "metadata": {},
   "source": [
    "---\n",
    "## 1. The Agent Registry: A `JSON` File\n",
    "\n",
    "In a real project, you wouldn't store your agent definitions inside your Python code. You'd use an external configuration file. `JSON` is a perfect choice because it's easy for both humans and machines to read.\n",
    "\n",
    "Let's create our `agent_registry.json` file."
   ]
  },
  {
   "cell_type": "code",
   "execution_count": null,
   "metadata": {},
   "outputs": [],
   "source": [
    "import json\n",
    "\n",
    "# Define the agent's properties in a Python dictionary first\n",
    "agent_definition = {\n",
    "    \"support_agent_v1\": {\n",
    "        \"agent_id\": \"support_agent_v1\",\n",
    "        \"description\": \"A bot that can fetch the status of a customer's order.\",\n",
    "        \"version\": \"1.1\",\n",
    "        \"capabilities\": {\n",
    "            \"task\": \"get_order_status\",\n",
    "            \"required_tool\": \"OrderAPITool\" # The name of the tool it needs\n",
    "        }\n",
    "    }\n",
    "}\n",
    "\n",
    "# Now, write this dictionary to a JSON file\n",
    "file_path = 'agent_registry.json'\n",
    "with open(file_path, 'w') as f:\n",
    "    json.dump(agent_definition, f, indent=4)\n",
    "\n",
    "print(f\"✅ Agent Registry created at '{file_path}'\")"
   ]
  },
  {
   "cell_type": "markdown",
   "metadata": {},
   "source": [
    "After running the cell above, you will have a new file named `agent_registry.json` in the same directory as your notebook. This file is our professional-looking registry!"
   ]
  },
  {
   "cell_type": "markdown",
   "metadata": {},
   "source": [
    "---\n",
    "## 2. The Tool and the Protocol (MCP)\n",
    "\n",
    "Now for the most important part. We will simulate our **Model Context Protocol (MCP)**. Our rule is simple: **all communication must be in the form of a JSON string.**\n",
    "\n",
    "### The Tool: An External Order Database\n",
    "First, let's define the tool our agent will use. This class simulates your company's order database. It will only accept requests and give responses as JSON text."
   ]
  },
  {
   "cell_type": "code",
   "execution_count": null,
   "metadata": {},
   "outputs": [],
   "source": [
    "class OrderAPITool:\n",
    "    \"\"\"\n",
    "    This simulates a real, external tool, like a database API.\n",
    "    It strictly communicates by receiving and returning JSON strings.\n",
    "    \"\"\"\n",
    "    def __init__(self):\n",
    "        # A fake database of orders for our demonstration\n",
    "        self._database = {\n",
    "            \"ORD123\": {\"status\": \"Shipped\", \"item\": \"Laptop\"},\n",
    "            \"ORD456\": {\"status\": \"Processing\", \"item\": \"Keyboard\"},\n",
    "            \"ORD789\": {\"status\": \"Delivered\", \"item\": \"Mouse\"},\n",
    "        }\n",
    "    \n",
    "    def call_tool(self, json_request: str) -> str:\n",
    "        \"\"\"\n",
    "        This is the tool's only entry point. It follows our MCP rule.\n",
    "        \"\"\"\n",
    "        print(f\"⚙️ TOOL: Received raw JSON request: {json_request}\")\n",
    "        \n",
    "        # --- Tool-side Deserialization ---\n",
    "        # The tool converts the JSON string back into a Python dictionary\n",
    "        try:\n",
    "            request_data = json.loads(json_request)\n",
    "            order_id = request_data.get(\"order_id\")\n",
    "        except (json.JSONDecodeError, AttributeError):\n",
    "            response = {\"success\": False, \"error\": \"Invalid JSON format\"}\n",
    "            return json.dumps(response)\n",
    "\n",
    "        # --- Tool Logic ---\n",
    "        # The tool performs its actual task\n",
    "        if order_id in self._database:\n",
    "            order_info = self._database[order_id]\n",
    "            response = {\"success\": True, \"data\": order_info}\n",
    "        else:\n",
    "            response = {\"success\": False, \"error\": \"Order ID not found\"}\n",
    "        \n",
    "        # --- Tool-side Serialization ---\n",
    "        # The tool converts its Python dictionary response back into a JSON string\n",
    "        json_response = json.dumps(response)\n",
    "        print(f\"⚙️ TOOL: Sending back raw JSON response: {json_response}\")\n",
    "        return json_response\n",
    "\n",
    "print(\"✅ OrderAPITool defined.\")"
   ]
  },
  {
   "cell_type": "markdown",
   "metadata": {},
   "source": [
    "---\n",
    "## 3. The Agent in Action\n",
    "\n",
    "Now we'll build the main application. This code will act as our AI agent. It will use the registry to find out what to do and then use the MCP-compliant tool to do it."
   ]
  },
  {
   "cell_type": "code",
   "execution_count": null,
   "metadata": {},
   "outputs": [],
   "source": [
    "class SupportAgent:\n",
    "    \"\"\"Our main AI Agent.\"\"\"\n",
    "    \n",
    "    def __init__(self, registry_path: str):\n",
    "        # 1. The agent loads its configuration from the registry file on startup.\n",
    "        with open(registry_path, 'r') as f:\n",
    "            self.registry = json.load(f)\n",
    "        print(\"🤖 AGENT: Registry loaded.\")\n",
    "        \n",
    "        # The agent has access to a list of available tools.\n",
    "        self.tool_library = {\n",
    "            \"OrderAPITool\": OrderAPITool()\n",
    "        }\n",
    "        print(\"🤖 AGENT: Tool library initialized.\")\n",
    "\n",
    "    def perform_task(self, agent_id: str, order_id: str):\n",
    "        \"\"\"The main logic loop for the agent.\"\"\"\n",
    "        \n",
    "        print(f\"\\n🚀 AGENT: Initiating task 'get_order_status' for Order ID: {order_id}\")\n",
    "        \n",
    "        # 2. Discovery: Look up its own instructions in the registry.\n",
    "        agent_info = self.registry.get(agent_id)\n",
    "        if not agent_info:\n",
    "            print(f\"❌ AGENT: I don't know who I am! Agent '{agent_id}' not in registry.\")\n",
    "            return\n",
    "\n",
    "        tool_name = agent_info[\"capabilities\"][\"required_tool\"]\n",
    "        target_tool = self.tool_library.get(tool_name)\n",
    "        print(f\"🤖 AGENT: I need to use the '{tool_name}'.\")\n",
    "\n",
    "        # 3. Prepare MCP Request: The agent prepares its request as a Python dictionary.\n",
    "        request_payload = {\n",
    "            \"task\": \"get_order_status\",\n",
    "            \"order_id\": order_id\n",
    "        }\n",
    "        \n",
    "        # --- Agent-side Serialization ---\n",
    "        # It converts the dictionary to a JSON string before \"sending\" it.\n",
    "        json_request = json.dumps(request_payload)\n",
    "        \n",
    "        # 4. Execute using MCP: The agent calls the tool with the JSON string.\n",
    "        json_response = target_tool.call_tool(json_request)\n",
    "        \n",
    "        # --- Agent-side Deserialization ---\n",
    "        # It gets a JSON string back and converts it into a dictionary it can use.\n",
    "        response_data = json.loads(json_response)\n",
    "        \n",
    "        # 5. Process Final Result\n",
    "        if response_data.get(\"success\"):\n",
    "            status = response_data[\"data\"][\"status\"]\n",
    "            item = response_data[\"data\"][\"item\"]\n",
    "            print(f\"\\n✅ SUCCESS! The status for order '{order_id}' ({item}) is: '{status}'.\")\n",
    "        else:\n",
    "            error = response_data.get(\"error\")\n",
    "            print(f\"\\n❌ FAILED. The tool reported an error: '{error}'.\")\n",
    "\n",
    "\n",
    "# --- Let's run our Support Bot! ---\n",
    "support_bot = SupportAgent(registry_path='agent_registry.json')\n",
    "support_bot.perform_task(agent_id=\"support_agent_v1\", order_id=\"ORD456\")"
   ]
  },
  {
   "cell_type": "markdown",
   "metadata": {},
   "source": [
    "### Let's try another one that will fail:"
   ]
  },
  {
   "cell_type": "code",
   "execution_count": null,
   "metadata": {},
   "outputs": [],
   "source": [
    "# --- Running again with an Order ID that doesn't exist ---\n",
    "support_bot.perform_task(agent_id=\"support_agent_v1\", order_id=\"ORD999\")"
   ]
  },
  {
   "cell_type": "markdown",
   "metadata": {},
   "source": [
    "---\n",
    "\n",
    "## 4. Conclusion: Why Was This Powerful?\n",
    "\n",
    "This example, while still simple, is a much more accurate model of a real agentic system.\n",
    "\n",
    "1.  **Clear Separation**: The `agent_registry.json` file is totally separate from the code. You can update the agent's description or version without touching the Python script.\n",
    "2.  **Formal Protocol (MCP)**: By forcing communication through `JSON strings`, we simulated a real API. The agent doesn't need to know *how* the tool works, and the tool doesn't need to know *who* is calling it. They just need to agree on the message format.\n",
    "3.  **Scalability**: To add a new \"Process Refund\" agent, you would simply:\n",
    "    * Add a new entry to the `agent_registry.json` file.\n",
    "    * Build a new `RefundAPITool` class that also \"speaks\" JSON.\n",
    "    * The core logic of the `SupportAgent` wouldn't need to change at all.\n",
    "\n",
    "This **decoupled, protocol-driven architecture** is the key to building robust AI systems that can grow in complexity without breaking."
   ]
  }
 ],
 "metadata": {
  "kernelspec": {
   "display_name": "Python 3",
   "language": "python",
   "name": "python3"
  },
  "language_info": {
   "codemirror_mode": {
    "name": "ipython",
    "version": 3
   },
   "file_extension": ".py",
   "mimetype": "text/x-python",
   "name": "python",
   "nbconvert_exporter": "python",
   "pygments_lexer": "ipython3",
   "version": "3.9.12"
  }
 },
 "nbformat": 4,
 "nbformat_minor": 4
}
