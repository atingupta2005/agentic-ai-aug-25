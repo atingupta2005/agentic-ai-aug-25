{
 "cells": [
  {
   "cell_type": "markdown",
   "metadata": {},
   "source": [
    "# Lab: Introduction to the OpenAI Agents SDK\n",
    "\n",
    "This lab provides a first look at using the official `openai-agents` Python SDK. We will build the simplest possible agent to understand the core concepts of the framework: defining an agent and running a task."
   ]
  },
  {
   "cell_type": "markdown",
   "metadata": {},
   "source": [
    "### OpenAI Agents SDK Documentation\n",
    "\n",
    "The official documentation for this SDK is a valuable resource and can be found at:\n",
    "[https://openai.github.io/openai-agents-python/](https://openai.github.io/openai-agents-python/)"
   ]
  },
  {
   "cell_type": "code",
   "execution_count": null,
   "metadata": {},
   "outputs": [],
   "source": [
    "import warnings\n",
    "warnings.filterwarnings('ignore')"
   ]
  },
  {
   "cell_type": "code",
   "execution_count": null,
   "metadata": {},
   "outputs": [],
   "source": [
    "# === Imports ===\n",
    "# `Agent` and `Runner` are the core components from the OpenAI Agents SDK.\n",
    "# `trace` is a helpful utility for observing the agent's execution steps in the OpenAI platform.\n",
    "\n",
    "from dotenv import load_dotenv\n",
    "from agents import Agent, Runner, trace"
   ]
  },
  {
   "cell_type": "code",
   "execution_count": null,
   "metadata": {},
   "outputs": [],
   "source": [
    "# Load the API key from the .env file.\n",
    "load_dotenv(override=True)"
   ]
  },
  {
   "cell_type": "code",
   "execution_count": null,
   "metadata": {},
   "outputs": [],
   "source": [
    "# === Define an Agent ===\n",
    "# An Agent is defined by three main things:\n",
    "# 1. name: A simple identifier.\n",
    "# 2. instructions: The system prompt that tells the agent how to behave.\n",
    "# 3. model: The underlying LLM that will power the agent's reasoning.\n",
    "\n",
    "jokester_agent = Agent(\n",
    "    name=\"Jokester\", \n",
    "    instructions=\"You are a friendly comedian who tells short, family-friendly jokes.\", \n",
    "    model=\"gpt-4o-mini\"\n",
    ")"
   ]
  },
  {
   "cell_type": "code",
   "execution_count": null,
   "metadata": {},
   "outputs": [],
   "source": [
    "# === Run the Agent ===\n",
    "# The `Runner.run()` function executes the agent with a given prompt.\n",
    "# Note the `await` keyword, as the SDK is asynchronous. Modern Jupyter notebooks support top-level await.\n",
    "# The `trace()` context manager wraps the execution, sending detailed logs to the OpenAI platform.\n",
    "\n",
    "with trace(\"Telling a joke about AI\"):\n",
    "    result = await Runner.run(jokester_agent, \"Tell me a joke about Autonomous AI Agents\")\n",
    "    print(result.final_output)"
   ]
  },
  {
   "cell_type": "markdown",
   "metadata": {},
   "source": [
    "### Observing the Trace\n",
    "\n",
    "Because we wrapped our execution in a `trace()` block, we can now see a detailed, step-by-step log of the agent's execution.\n",
    "\n",
    "You can view this by logging into the OpenAI platform and navigating to the [Traces section](https://platform.openai.com/traces)."
   ]
  }
 ],
 "metadata": {
  "kernelspec": {
   "display_name": ".venv",
   "language": "python",
   "name": "python3"
  },
  "language_info": {
   "codemirror_mode": {
    "name": "ipython",
    "version": 3
   },
   "file_extension": ".py",
   "mimetype": "text/x-python",
   "name": "python",
   "nbconvert_exporter": "python",
   "pygments_lexer": "ipython3",
   "version": "3.12.9"
  }
 },
 "nbformat": 4,
 "nbformat_minor": 2
}
